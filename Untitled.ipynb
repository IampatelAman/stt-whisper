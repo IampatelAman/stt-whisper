{
 "cells": [
  {
   "cell_type": "code",
   "execution_count": 9,
   "id": "268779dd-35f4-4aeb-848e-c872a89f0acb",
   "metadata": {},
   "outputs": [
    {
     "name": "stdout",
     "output_type": "stream",
     "text": [
      "Whisper installed successfully!\n"
     ]
    }
   ],
   "source": [
    "import whisper\n",
    "print(\"Whisper installed successfully!\")\n"
   ]
  },
  {
   "cell_type": "code",
   "execution_count": 11,
   "id": "51858579-5a4c-499d-b8f3-6044f29f622f",
   "metadata": {},
   "outputs": [
    {
     "name": "stdout",
     "output_type": "stream",
     "text": [
      "Model loaded successfully!\n"
     ]
    }
   ],
   "source": [
    "import whisper\n",
    "\n",
    "# Load the Whisper model\n",
    "model = whisper.load_model(\"small\")\n",
    "print(\"Model loaded successfully!\")\n"
   ]
  },
  {
   "cell_type": "code",
   "execution_count": 19,
   "id": "cb107066-d2e2-426e-96c8-44a296f7d018",
   "metadata": {},
   "outputs": [
    {
     "name": "stdout",
     "output_type": "stream",
     "text": [
      " Hello my name is Aman, this is my project for SciFuture submission.\n"
     ]
    }
   ],
   "source": [
    "result = model.transcribe(\"audio.mp3\", fp16=False)\n",
    "print(result[\"text\"])\n"
   ]
  },
  {
   "cell_type": "code",
   "execution_count": 15,
   "id": "be3ea6f5-93b3-40bc-8524-4f0949042766",
   "metadata": {},
   "outputs": [
    {
     "name": "stdout",
     "output_type": "stream",
     "text": [
      "Transcription saved successfully!\n"
     ]
    }
   ],
   "source": [
    "with open(\"transcription.txt\", \"w\") as f:\n",
    "    f.write(result[\"text\"])\n",
    "print(\"Transcription saved successfully!\")\n"
   ]
  },
  {
   "cell_type": "code",
   "execution_count": 21,
   "id": "190a9038-7443-45d1-8ec5-c6e16a3d885e",
   "metadata": {},
   "outputs": [
    {
     "name": "stdin",
     "output_type": "stream",
     "text": [
      "Enter the path to your audio file:  http://www.moviesoundclips.net/movies1/darkknight/criminal.mp3\n"
     ]
    },
    {
     "name": "stdout",
     "output_type": "stream",
     "text": [
      "Transcription:\n",
      "  This town deserves a better class of current. And I'm gonna give it to him.\n"
     ]
    }
   ],
   "source": [
    "audio_path = input(\"Enter the path to your audio file: \")\n",
    "result = model.transcribe(audio_path)\n",
    "print(\"Transcription:\\n\", result[\"text\"])"
   ]
  },
  {
   "cell_type": "code",
   "execution_count": null,
   "id": "cd1092b8-7b0b-49da-b395-d9b3b934cdbd",
   "metadata": {},
   "outputs": [],
   "source": []
  }
 ],
 "metadata": {
  "kernelspec": {
   "display_name": "Python [conda env:base] *",
   "language": "python",
   "name": "conda-base-py"
  },
  "language_info": {
   "codemirror_mode": {
    "name": "ipython",
    "version": 3
   },
   "file_extension": ".py",
   "mimetype": "text/x-python",
   "name": "python",
   "nbconvert_exporter": "python",
   "pygments_lexer": "ipython3",
   "version": "3.12.7"
  }
 },
 "nbformat": 4,
 "nbformat_minor": 5
}
